{
  "nbformat": 4,
  "nbformat_minor": 0,
  "metadata": {
    "colab": {
      "name": "Resnet- like",
      "version": "0.3.2",
      "provenance": [],
      "collapsed_sections": [],
      "include_colab_link": true
    },
    "kernelspec": {
      "name": "python3",
      "display_name": "Python 3"
    },
    "accelerator": "GPU"
  },
  "cells": [
    {
      "cell_type": "markdown",
      "metadata": {
        "id": "view-in-github",
        "colab_type": "text"
      },
      "source": [
        "<a href=\"https://colab.research.google.com/github/utkuyucel/Data-Analiz-Notebooklar/blob/master/Resnet_like.ipynb\" target=\"_parent\"><img src=\"https://colab.research.google.com/assets/colab-badge.svg\" alt=\"Open In Colab\"/></a>"
      ]
    },
    {
      "cell_type": "code",
      "metadata": {
        "id": "z-5x-MfnGWIv",
        "colab_type": "code",
        "outputId": "b669ecd1-6575-478d-da68-ae7eea98aaeb",
        "colab": {
          "base_uri": "https://localhost:8080/",
          "height": 34
        }
      },
      "source": [
        "from keras.layers import Conv2D,DepthwiseConv2D, MaxPooling2D, Flatten, Activation, Input, Dense, ZeroPadding2D, AveragePooling2D, BatchNormalization, Add, concatenate,Dropout\n",
        "from keras.models import Model, load_model\n",
        "from keras.utils import to_categorical, plot_model, layer_utils\n",
        "from matplotlib.pyplot import imshow\n",
        "from keras.datasets import cifar10\n",
        "from tensorboardcolab import *\n",
        "import keras\n",
        "import matplotlib.pyplot as plt\n",
        "import keras.backend as K\n",
        "\n",
        "#K.set_image_data_format(\"channels_last\")\n",
        "#K.set_learning_phase(1)"
      ],
      "execution_count": 1,
      "outputs": [
        {
          "output_type": "stream",
          "text": [
            "Using TensorFlow backend.\n"
          ],
          "name": "stderr"
        }
      ]
    },
    {
      "cell_type": "code",
      "metadata": {
        "id": "kQkFfc9mHMUY",
        "colab_type": "code",
        "outputId": "29dfff3b-0638-436e-ffa4-8f685ecb2137",
        "colab": {
          "base_uri": "https://localhost:8080/",
          "height": 51
        }
      },
      "source": [
        "(X_train, y_train),(X_test, y_test) = cifar10.load_data()\n",
        "\n",
        "X_train = X_train.astype(\"float32\")\n",
        "X_test = X_test.astype(\"float32\")\n",
        "\n",
        "X_train /= 255.\n",
        "X_test /= 255.\n",
        "\n",
        "y_train = to_categorical(y_train,10)\n",
        "y_test = to_categorical(y_test,10)"
      ],
      "execution_count": 2,
      "outputs": [
        {
          "output_type": "stream",
          "text": [
            "Downloading data from https://www.cs.toronto.edu/~kriz/cifar-10-python.tar.gz\n",
            "170500096/170498071 [==============================] - 41s 0us/step\n"
          ],
          "name": "stdout"
        }
      ]
    },
    {
      "cell_type": "code",
      "metadata": {
        "id": "ljVAM40OkUcp",
        "colab_type": "code",
        "colab": {}
      },
      "source": [
        "def res(X_input, F1):\n",
        "  \n",
        "  X = Conv2D(F1, (1,1), strides = (1,1), padding = \"same\")(X_input)\n",
        "  X = BatchNormalization()(X)\n",
        "  X = Activation(\"relu\")(X)\n",
        "  \n",
        "  X = Conv2D(F1, (3,3), strides = (1,1), padding = \"same\")(X)\n",
        "  X = BatchNormalization()(X)\n",
        "  X = Activation(\"relu\")(X)\n",
        "  \n",
        "  X = Conv2D(F1, (1,1), strides = (1,1), padding = \"same\")(X)\n",
        "  X = BatchNormalization()(X)\n",
        "  \n",
        "  Y = Conv2D(F1, (1,1), strides = (1,1), padding = \"same\")(X_input)\n",
        "  \n",
        "  X = Add()([X, Y])\n",
        "  X = Activation(\"relu\")(X)\n",
        "  \n",
        "  \n",
        "  return X\n",
        "  \n",
        "  "
      ],
      "execution_count": 0,
      "outputs": []
    },
    {
      "cell_type": "code",
      "metadata": {
        "id": "S695dn-cGOp9",
        "colab_type": "code",
        "colab": {}
      },
      "source": [
        "def model(X_input = (32,32,3)):\n",
        "  \n",
        "  X_input = Input(X_input)\n",
        "  \n",
        "  X = res(X_input, 64)\n",
        "  X = res(X, 128)\n",
        "  X = res(X,256)\n",
        "  X = res(X,128)\n",
        "  \n",
        "  \n",
        "  X = Flatten()(X)\n",
        "  X = Dense(10, activation = \"softmax\")(X)\n",
        "  \n",
        "  model = Model(inputs = X_input, outputs = X)\n",
        "  \n",
        "  return model"
      ],
      "execution_count": 0,
      "outputs": []
    },
    {
      "cell_type": "code",
      "metadata": {
        "id": "n5BST8swamSA",
        "colab_type": "code",
        "colab": {}
      },
      "source": [
        "model = model((32,32,3))\n"
      ],
      "execution_count": 0,
      "outputs": []
    },
    {
      "cell_type": "code",
      "metadata": {
        "id": "Qc7OyVCKUSox",
        "colab_type": "code",
        "outputId": "109285c6-7b41-4ac5-bd0c-2d0c6ea79b98",
        "colab": {
          "base_uri": "https://localhost:8080/",
          "height": 4169
        }
      },
      "source": [
        "from IPython.display import SVG\n",
        "from keras.utils.vis_utils import model_to_dot\n",
        "\n",
        "plot_model(model, to_file='model.png')\n",
        "SVG(model_to_dot(model).create(prog='dot', format='svg'))\n"
      ],
      "execution_count": 12,
      "outputs": [
        {
          "output_type": "execute_result",
          "data": {
            "text/plain": [
              "<IPython.core.display.SVG object>"
            ],
            "image/svg+xml": "<svg height=\"3111pt\" viewBox=\"0.00 0.00 531.00 3111.00\" width=\"531pt\" xmlns=\"http://www.w3.org/2000/svg\" xmlns:xlink=\"http://www.w3.org/1999/xlink\">\n<g class=\"graph\" id=\"graph0\" transform=\"scale(1 1) rotate(0) translate(4 3107)\">\n<title>G</title>\n<polygon fill=\"#ffffff\" points=\"-4,4 -4,-3107 527,-3107 527,4 -4,4\" stroke=\"transparent\"/>\n<!-- 140196865839512 -->\n<g class=\"node\" id=\"node1\">\n<title>140196865839512</title>\n<polygon fill=\"none\" points=\"185.5,-3066.5 185.5,-3102.5 318.5,-3102.5 318.5,-3066.5 185.5,-3066.5\" stroke=\"#000000\"/>\n<text fill=\"#000000\" font-family=\"Times,serif\" font-size=\"14.00\" text-anchor=\"middle\" x=\"252\" y=\"-3080.8\">input_3: InputLayer</text>\n</g>\n<!-- 140196865840632 -->\n<g class=\"node\" id=\"node2\">\n<title>140196865840632</title>\n<polygon fill=\"none\" points=\"133,-2993.5 133,-3029.5 273,-3029.5 273,-2993.5 133,-2993.5\" stroke=\"#000000\"/>\n<text fill=\"#000000\" font-family=\"Times,serif\" font-size=\"14.00\" text-anchor=\"middle\" x=\"203\" y=\"-3007.8\">conv2d_25: Conv2D</text>\n</g>\n<!-- 140196865839512&#45;&gt;140196865840632 -->\n<g class=\"edge\" id=\"edge1\">\n<title>140196865839512-&gt;140196865840632</title>\n<path d=\"M239.8876,-3066.4551C234.1159,-3057.8564 227.0995,-3047.4034 220.7418,-3037.9316\" fill=\"none\" stroke=\"#000000\"/>\n<polygon fill=\"#000000\" points=\"223.6222,-3035.9427 215.1428,-3029.5904 217.8101,-3039.844 223.6222,-3035.9427\" stroke=\"#000000\"/>\n</g>\n<!-- 140196869098912 -->\n<g class=\"node\" id=\"node10\">\n<title>140196869098912</title>\n<polygon fill=\"none\" points=\"296,-2920.5 296,-2956.5 436,-2956.5 436,-2920.5 296,-2920.5\" stroke=\"#000000\"/>\n<text fill=\"#000000\" font-family=\"Times,serif\" font-size=\"14.00\" text-anchor=\"middle\" x=\"366\" y=\"-2934.8\">conv2d_28: Conv2D</text>\n</g>\n<!-- 140196865839512&#45;&gt;140196869098912 -->\n<g class=\"edge\" id=\"edge9\">\n<title>140196865839512-&gt;140196869098912</title>\n<path d=\"M266.2077,-3066.3042C286.0904,-3040.8403 322.3436,-2994.4108 345.2489,-2965.0759\" fill=\"none\" stroke=\"#000000\"/>\n<polygon fill=\"#000000\" points=\"348.2176,-2966.961 351.6133,-2956.9251 342.7002,-2962.653 348.2176,-2966.961\" stroke=\"#000000\"/>\n</g>\n<!-- 140197127862648 -->\n<g class=\"node\" id=\"node3\">\n<title>140197127862648</title>\n<polygon fill=\"none\" points=\"0,-2920.5 0,-2956.5 278,-2956.5 278,-2920.5 0,-2920.5\" stroke=\"#000000\"/>\n<text fill=\"#000000\" font-family=\"Times,serif\" font-size=\"14.00\" text-anchor=\"middle\" x=\"139\" y=\"-2934.8\">batch_normalization_19: BatchNormalization</text>\n</g>\n<!-- 140196865840632&#45;&gt;140197127862648 -->\n<g class=\"edge\" id=\"edge2\">\n<title>140196865840632-&gt;140197127862648</title>\n<path d=\"M187.1798,-2993.4551C179.4874,-2984.6809 170.1022,-2973.9759 161.6656,-2964.353\" fill=\"none\" stroke=\"#000000\"/>\n<polygon fill=\"#000000\" points=\"164.0842,-2961.8024 154.86,-2956.5904 158.8206,-2966.4171 164.0842,-2961.8024\" stroke=\"#000000\"/>\n</g>\n<!-- 140197127862872 -->\n<g class=\"node\" id=\"node4\">\n<title>140197127862872</title>\n<polygon fill=\"none\" points=\"59.5,-2847.5 59.5,-2883.5 220.5,-2883.5 220.5,-2847.5 59.5,-2847.5\" stroke=\"#000000\"/>\n<text fill=\"#000000\" font-family=\"Times,serif\" font-size=\"14.00\" text-anchor=\"middle\" x=\"140\" y=\"-2861.8\">activation_19: Activation</text>\n</g>\n<!-- 140197127862648&#45;&gt;140197127862872 -->\n<g class=\"edge\" id=\"edge3\">\n<title>140197127862648-&gt;140197127862872</title>\n<path d=\"M139.2472,-2920.4551C139.3578,-2912.3828 139.4907,-2902.6764 139.6139,-2893.6817\" fill=\"none\" stroke=\"#000000\"/>\n<polygon fill=\"#000000\" points=\"143.1148,-2893.6374 139.7522,-2883.5904 136.1154,-2893.5414 143.1148,-2893.6374\" stroke=\"#000000\"/>\n</g>\n<!-- 140196865840184 -->\n<g class=\"node\" id=\"node5\">\n<title>140196865840184</title>\n<polygon fill=\"none\" points=\"72,-2774.5 72,-2810.5 212,-2810.5 212,-2774.5 72,-2774.5\" stroke=\"#000000\"/>\n<text fill=\"#000000\" font-family=\"Times,serif\" font-size=\"14.00\" text-anchor=\"middle\" x=\"142\" y=\"-2788.8\">conv2d_26: Conv2D</text>\n</g>\n<!-- 140197127862872&#45;&gt;140196865840184 -->\n<g class=\"edge\" id=\"edge4\">\n<title>140197127862872-&gt;140196865840184</title>\n<path d=\"M140.4944,-2847.4551C140.7155,-2839.3828 140.9815,-2829.6764 141.2279,-2820.6817\" fill=\"none\" stroke=\"#000000\"/>\n<polygon fill=\"#000000\" points=\"144.7291,-2820.6825 141.5044,-2810.5904 137.7317,-2820.4907 144.7291,-2820.6825\" stroke=\"#000000\"/>\n</g>\n<!-- 140196866829224 -->\n<g class=\"node\" id=\"node6\">\n<title>140196866829224</title>\n<polygon fill=\"none\" points=\"7,-2701.5 7,-2737.5 285,-2737.5 285,-2701.5 7,-2701.5\" stroke=\"#000000\"/>\n<text fill=\"#000000\" font-family=\"Times,serif\" font-size=\"14.00\" text-anchor=\"middle\" x=\"146\" y=\"-2715.8\">batch_normalization_20: BatchNormalization</text>\n</g>\n<!-- 140196865840184&#45;&gt;140196866829224 -->\n<g class=\"edge\" id=\"edge5\">\n<title>140196865840184-&gt;140196866829224</title>\n<path d=\"M142.9888,-2774.4551C143.4311,-2766.3828 143.9629,-2756.6764 144.4558,-2747.6817\" fill=\"none\" stroke=\"#000000\"/>\n<polygon fill=\"#000000\" points=\"147.9563,-2747.7669 145.0087,-2737.5904 140.9668,-2747.3839 147.9563,-2747.7669\" stroke=\"#000000\"/>\n</g>\n<!-- 140196866844880 -->\n<g class=\"node\" id=\"node7\">\n<title>140196866844880</title>\n<polygon fill=\"none\" points=\"72.5,-2628.5 72.5,-2664.5 233.5,-2664.5 233.5,-2628.5 72.5,-2628.5\" stroke=\"#000000\"/>\n<text fill=\"#000000\" font-family=\"Times,serif\" font-size=\"14.00\" text-anchor=\"middle\" x=\"153\" y=\"-2642.8\">activation_20: Activation</text>\n</g>\n<!-- 140196866829224&#45;&gt;140196866844880 -->\n<g class=\"edge\" id=\"edge6\">\n<title>140196866829224-&gt;140196866844880</title>\n<path d=\"M147.7303,-2701.4551C148.5044,-2693.3828 149.4351,-2683.6764 150.2976,-2674.6817\" fill=\"none\" stroke=\"#000000\"/>\n<polygon fill=\"#000000\" points=\"153.7947,-2674.8788 151.2653,-2664.5904 146.8267,-2674.2106 153.7947,-2674.8788\" stroke=\"#000000\"/>\n</g>\n<!-- 140196866835568 -->\n<g class=\"node\" id=\"node8\">\n<title>140196866835568</title>\n<polygon fill=\"none\" points=\"98,-2555.5 98,-2591.5 238,-2591.5 238,-2555.5 98,-2555.5\" stroke=\"#000000\"/>\n<text fill=\"#000000\" font-family=\"Times,serif\" font-size=\"14.00\" text-anchor=\"middle\" x=\"168\" y=\"-2569.8\">conv2d_27: Conv2D</text>\n</g>\n<!-- 140196866844880&#45;&gt;140196866835568 -->\n<g class=\"edge\" id=\"edge7\">\n<title>140196866844880-&gt;140196866835568</title>\n<path d=\"M156.7079,-2628.4551C158.3846,-2620.2951 160.4044,-2610.4652 162.2694,-2601.3887\" fill=\"none\" stroke=\"#000000\"/>\n<polygon fill=\"#000000\" points=\"165.6984,-2602.0902 164.2828,-2591.5904 158.8416,-2600.6812 165.6984,-2602.0902\" stroke=\"#000000\"/>\n</g>\n<!-- 140196866873832 -->\n<g class=\"node\" id=\"node9\">\n<title>140196866873832</title>\n<polygon fill=\"none\" points=\"59,-2482.5 59,-2518.5 337,-2518.5 337,-2482.5 59,-2482.5\" stroke=\"#000000\"/>\n<text fill=\"#000000\" font-family=\"Times,serif\" font-size=\"14.00\" text-anchor=\"middle\" x=\"198\" y=\"-2496.8\">batch_normalization_21: BatchNormalization</text>\n</g>\n<!-- 140196866835568&#45;&gt;140196866873832 -->\n<g class=\"edge\" id=\"edge8\">\n<title>140196866835568-&gt;140196866873832</title>\n<path d=\"M175.4157,-2555.4551C178.8052,-2547.2074 182.8958,-2537.2536 186.6591,-2528.0962\" fill=\"none\" stroke=\"#000000\"/>\n<polygon fill=\"#000000\" points=\"190.0017,-2529.1702 190.5656,-2518.5904 183.5271,-2526.5094 190.0017,-2529.1702\" stroke=\"#000000\"/>\n</g>\n<!-- 140196869017384 -->\n<g class=\"node\" id=\"node11\">\n<title>140196869017384</title>\n<polygon fill=\"none\" points=\"238.5,-2409.5 238.5,-2445.5 323.5,-2445.5 323.5,-2409.5 238.5,-2409.5\" stroke=\"#000000\"/>\n<text fill=\"#000000\" font-family=\"Times,serif\" font-size=\"14.00\" text-anchor=\"middle\" x=\"281\" y=\"-2423.8\">add_7: Add</text>\n</g>\n<!-- 140196866873832&#45;&gt;140196869017384 -->\n<g class=\"edge\" id=\"edge10\">\n<title>140196866873832-&gt;140196869017384</title>\n<path d=\"M218.5169,-2482.4551C228.892,-2473.3299 241.6416,-2462.1165 252.9123,-2452.2036\" fill=\"none\" stroke=\"#000000\"/>\n<polygon fill=\"#000000\" points=\"255.2341,-2454.8228 260.4315,-2445.5904 250.6111,-2449.5665 255.2341,-2454.8228\" stroke=\"#000000\"/>\n</g>\n<!-- 140196869098912&#45;&gt;140196869017384 -->\n<g class=\"edge\" id=\"edge11\">\n<title>140196869098912-&gt;140196869017384</title>\n<path d=\"M365.7928,-2920.0623C365.4999,-2892.367 365,-2838.3795 365,-2792.5 365,-2792.5 365,-2792.5 365,-2573.5 365,-2531.9658 367.3146,-2517.6479 346,-2482 339.1422,-2470.5307 328.9793,-2460.3447 318.7159,-2451.9733\" fill=\"none\" stroke=\"#000000\"/>\n<polygon fill=\"#000000\" points=\"320.5814,-2448.9921 310.5246,-2445.6587 316.3077,-2454.5361 320.5814,-2448.9921\" stroke=\"#000000\"/>\n</g>\n<!-- 140196869015312 -->\n<g class=\"node\" id=\"node12\">\n<title>140196869015312</title>\n<polygon fill=\"none\" points=\"200.5,-2336.5 200.5,-2372.5 361.5,-2372.5 361.5,-2336.5 200.5,-2336.5\" stroke=\"#000000\"/>\n<text fill=\"#000000\" font-family=\"Times,serif\" font-size=\"14.00\" text-anchor=\"middle\" x=\"281\" y=\"-2350.8\">activation_21: Activation</text>\n</g>\n<!-- 140196869017384&#45;&gt;140196869015312 -->\n<g class=\"edge\" id=\"edge12\">\n<title>140196869017384-&gt;140196869015312</title>\n<path d=\"M281,-2409.4551C281,-2401.3828 281,-2391.6764 281,-2382.6817\" fill=\"none\" stroke=\"#000000\"/>\n<polygon fill=\"#000000\" points=\"284.5001,-2382.5903 281,-2372.5904 277.5001,-2382.5904 284.5001,-2382.5903\" stroke=\"#000000\"/>\n</g>\n<!-- 140196871623624 -->\n<g class=\"node\" id=\"node13\">\n<title>140196871623624</title>\n<polygon fill=\"none\" points=\"162,-2263.5 162,-2299.5 302,-2299.5 302,-2263.5 162,-2263.5\" stroke=\"#000000\"/>\n<text fill=\"#000000\" font-family=\"Times,serif\" font-size=\"14.00\" text-anchor=\"middle\" x=\"232\" y=\"-2277.8\">conv2d_29: Conv2D</text>\n</g>\n<!-- 140196869015312&#45;&gt;140196871623624 -->\n<g class=\"edge\" id=\"edge13\">\n<title>140196869015312-&gt;140196871623624</title>\n<path d=\"M268.8876,-2336.4551C263.1159,-2327.8564 256.0995,-2317.4034 249.7418,-2307.9316\" fill=\"none\" stroke=\"#000000\"/>\n<polygon fill=\"#000000\" points=\"252.6222,-2305.9427 244.1428,-2299.5904 246.8101,-2309.844 252.6222,-2305.9427\" stroke=\"#000000\"/>\n</g>\n<!-- 140196869956048 -->\n<g class=\"node\" id=\"node21\">\n<title>140196869956048</title>\n<polygon fill=\"none\" points=\"325,-2190.5 325,-2226.5 465,-2226.5 465,-2190.5 325,-2190.5\" stroke=\"#000000\"/>\n<text fill=\"#000000\" font-family=\"Times,serif\" font-size=\"14.00\" text-anchor=\"middle\" x=\"395\" y=\"-2204.8\">conv2d_32: Conv2D</text>\n</g>\n<!-- 140196869015312&#45;&gt;140196869956048 -->\n<g class=\"edge\" id=\"edge21\">\n<title>140196869015312-&gt;140196869956048</title>\n<path d=\"M295.2077,-2336.3042C315.0904,-2310.8403 351.3436,-2264.4108 374.2489,-2235.0759\" fill=\"none\" stroke=\"#000000\"/>\n<polygon fill=\"#000000\" points=\"377.2176,-2236.961 380.6133,-2226.9251 371.7002,-2232.653 377.2176,-2236.961\" stroke=\"#000000\"/>\n</g>\n<!-- 140196871557864 -->\n<g class=\"node\" id=\"node14\">\n<title>140196871557864</title>\n<polygon fill=\"none\" points=\"29,-2190.5 29,-2226.5 307,-2226.5 307,-2190.5 29,-2190.5\" stroke=\"#000000\"/>\n<text fill=\"#000000\" font-family=\"Times,serif\" font-size=\"14.00\" text-anchor=\"middle\" x=\"168\" y=\"-2204.8\">batch_normalization_22: BatchNormalization</text>\n</g>\n<!-- 140196871623624&#45;&gt;140196871557864 -->\n<g class=\"edge\" id=\"edge14\">\n<title>140196871623624-&gt;140196871557864</title>\n<path d=\"M216.1798,-2263.4551C208.4874,-2254.6809 199.1022,-2243.9759 190.6656,-2234.353\" fill=\"none\" stroke=\"#000000\"/>\n<polygon fill=\"#000000\" points=\"193.0842,-2231.8024 183.86,-2226.5904 187.8206,-2236.4171 193.0842,-2231.8024\" stroke=\"#000000\"/>\n</g>\n<!-- 140196871558816 -->\n<g class=\"node\" id=\"node15\">\n<title>140196871558816</title>\n<polygon fill=\"none\" points=\"117.5,-2117.5 117.5,-2153.5 278.5,-2153.5 278.5,-2117.5 117.5,-2117.5\" stroke=\"#000000\"/>\n<text fill=\"#000000\" font-family=\"Times,serif\" font-size=\"14.00\" text-anchor=\"middle\" x=\"198\" y=\"-2131.8\">activation_22: Activation</text>\n</g>\n<!-- 140196871557864&#45;&gt;140196871558816 -->\n<g class=\"edge\" id=\"edge15\">\n<title>140196871557864-&gt;140196871558816</title>\n<path d=\"M175.4157,-2190.4551C178.8052,-2182.2074 182.8958,-2172.2536 186.6591,-2163.0962\" fill=\"none\" stroke=\"#000000\"/>\n<polygon fill=\"#000000\" points=\"190.0017,-2164.1702 190.5656,-2153.5904 183.5271,-2161.5094 190.0017,-2164.1702\" stroke=\"#000000\"/>\n</g>\n<!-- 140196871535976 -->\n<g class=\"node\" id=\"node16\">\n<title>140196871535976</title>\n<polygon fill=\"none\" points=\"143,-2044.5 143,-2080.5 283,-2080.5 283,-2044.5 143,-2044.5\" stroke=\"#000000\"/>\n<text fill=\"#000000\" font-family=\"Times,serif\" font-size=\"14.00\" text-anchor=\"middle\" x=\"213\" y=\"-2058.8\">conv2d_30: Conv2D</text>\n</g>\n<!-- 140196871558816&#45;&gt;140196871535976 -->\n<g class=\"edge\" id=\"edge16\">\n<title>140196871558816-&gt;140196871535976</title>\n<path d=\"M201.7079,-2117.4551C203.3846,-2109.2951 205.4044,-2099.4652 207.2694,-2090.3887\" fill=\"none\" stroke=\"#000000\"/>\n<polygon fill=\"#000000\" points=\"210.6984,-2091.0902 209.2828,-2080.5904 203.8416,-2089.6812 210.6984,-2091.0902\" stroke=\"#000000\"/>\n</g>\n<!-- 140196872035184 -->\n<g class=\"node\" id=\"node17\">\n<title>140196872035184</title>\n<polygon fill=\"none\" points=\"81,-1971.5 81,-2007.5 359,-2007.5 359,-1971.5 81,-1971.5\" stroke=\"#000000\"/>\n<text fill=\"#000000\" font-family=\"Times,serif\" font-size=\"14.00\" text-anchor=\"middle\" x=\"220\" y=\"-1985.8\">batch_normalization_23: BatchNormalization</text>\n</g>\n<!-- 140196871535976&#45;&gt;140196872035184 -->\n<g class=\"edge\" id=\"edge17\">\n<title>140196871535976-&gt;140196872035184</title>\n<path d=\"M214.7303,-2044.4551C215.5044,-2036.3828 216.4351,-2026.6764 217.2976,-2017.6817\" fill=\"none\" stroke=\"#000000\"/>\n<polygon fill=\"#000000\" points=\"220.7947,-2017.8788 218.2653,-2007.5904 213.8267,-2017.2106 220.7947,-2017.8788\" stroke=\"#000000\"/>\n</g>\n<!-- 140196872012520 -->\n<g class=\"node\" id=\"node18\">\n<title>140196872012520</title>\n<polygon fill=\"none\" points=\"143.5,-1898.5 143.5,-1934.5 304.5,-1934.5 304.5,-1898.5 143.5,-1898.5\" stroke=\"#000000\"/>\n<text fill=\"#000000\" font-family=\"Times,serif\" font-size=\"14.00\" text-anchor=\"middle\" x=\"224\" y=\"-1912.8\">activation_23: Activation</text>\n</g>\n<!-- 140196872035184&#45;&gt;140196872012520 -->\n<g class=\"edge\" id=\"edge18\">\n<title>140196872035184-&gt;140196872012520</title>\n<path d=\"M220.9888,-1971.4551C221.4311,-1963.3828 221.9629,-1953.6764 222.4558,-1944.6817\" fill=\"none\" stroke=\"#000000\"/>\n<polygon fill=\"#000000\" points=\"225.9563,-1944.7669 223.0087,-1934.5904 218.9668,-1944.3839 225.9563,-1944.7669\" stroke=\"#000000\"/>\n</g>\n<!-- 140196870567080 -->\n<g class=\"node\" id=\"node19\">\n<title>140196870567080</title>\n<polygon fill=\"none\" points=\"156,-1825.5 156,-1861.5 296,-1861.5 296,-1825.5 156,-1825.5\" stroke=\"#000000\"/>\n<text fill=\"#000000\" font-family=\"Times,serif\" font-size=\"14.00\" text-anchor=\"middle\" x=\"226\" y=\"-1839.8\">conv2d_31: Conv2D</text>\n</g>\n<!-- 140196872012520&#45;&gt;140196870567080 -->\n<g class=\"edge\" id=\"edge19\">\n<title>140196872012520-&gt;140196870567080</title>\n<path d=\"M224.4944,-1898.4551C224.7155,-1890.3828 224.9815,-1880.6764 225.2279,-1871.6817\" fill=\"none\" stroke=\"#000000\"/>\n<polygon fill=\"#000000\" points=\"228.7291,-1871.6825 225.5044,-1861.5904 221.7317,-1871.4907 228.7291,-1871.6825\" stroke=\"#000000\"/>\n</g>\n<!-- 140196870362112 -->\n<g class=\"node\" id=\"node20\">\n<title>140196870362112</title>\n<polygon fill=\"none\" points=\"88,-1752.5 88,-1788.5 366,-1788.5 366,-1752.5 88,-1752.5\" stroke=\"#000000\"/>\n<text fill=\"#000000\" font-family=\"Times,serif\" font-size=\"14.00\" text-anchor=\"middle\" x=\"227\" y=\"-1766.8\">batch_normalization_24: BatchNormalization</text>\n</g>\n<!-- 140196870567080&#45;&gt;140196870362112 -->\n<g class=\"edge\" id=\"edge20\">\n<title>140196870567080-&gt;140196870362112</title>\n<path d=\"M226.2472,-1825.4551C226.3578,-1817.3828 226.4907,-1807.6764 226.6139,-1798.6817\" fill=\"none\" stroke=\"#000000\"/>\n<polygon fill=\"#000000\" points=\"230.1148,-1798.6374 226.7522,-1788.5904 223.1154,-1798.5414 230.1148,-1798.6374\" stroke=\"#000000\"/>\n</g>\n<!-- 140196868028792 -->\n<g class=\"node\" id=\"node22\">\n<title>140196868028792</title>\n<polygon fill=\"none\" points=\"267.5,-1679.5 267.5,-1715.5 352.5,-1715.5 352.5,-1679.5 267.5,-1679.5\" stroke=\"#000000\"/>\n<text fill=\"#000000\" font-family=\"Times,serif\" font-size=\"14.00\" text-anchor=\"middle\" x=\"310\" y=\"-1693.8\">add_8: Add</text>\n</g>\n<!-- 140196870362112&#45;&gt;140196868028792 -->\n<g class=\"edge\" id=\"edge22\">\n<title>140196870362112-&gt;140196868028792</title>\n<path d=\"M247.5169,-1752.4551C257.892,-1743.3299 270.6416,-1732.1165 281.9123,-1722.2036\" fill=\"none\" stroke=\"#000000\"/>\n<polygon fill=\"#000000\" points=\"284.2341,-1724.8228 289.4315,-1715.5904 279.6111,-1719.5665 284.2341,-1724.8228\" stroke=\"#000000\"/>\n</g>\n<!-- 140196869956048&#45;&gt;140196868028792 -->\n<g class=\"edge\" id=\"edge23\">\n<title>140196869956048-&gt;140196868028792</title>\n<path d=\"M394.7928,-2190.0623C394.4999,-2162.367 394,-2108.3795 394,-2062.5 394,-2062.5 394,-2062.5 394,-1843.5 394,-1801.9658 396.3146,-1787.6479 375,-1752 368.1422,-1740.5307 357.9793,-1730.3447 347.7159,-1721.9733\" fill=\"none\" stroke=\"#000000\"/>\n<polygon fill=\"#000000\" points=\"349.5814,-1718.9921 339.5246,-1715.6587 345.3077,-1724.5361 349.5814,-1718.9921\" stroke=\"#000000\"/>\n</g>\n<!-- 140196867600112 -->\n<g class=\"node\" id=\"node23\">\n<title>140196867600112</title>\n<polygon fill=\"none\" points=\"229.5,-1606.5 229.5,-1642.5 390.5,-1642.5 390.5,-1606.5 229.5,-1606.5\" stroke=\"#000000\"/>\n<text fill=\"#000000\" font-family=\"Times,serif\" font-size=\"14.00\" text-anchor=\"middle\" x=\"310\" y=\"-1620.8\">activation_24: Activation</text>\n</g>\n<!-- 140196868028792&#45;&gt;140196867600112 -->\n<g class=\"edge\" id=\"edge24\">\n<title>140196868028792-&gt;140196867600112</title>\n<path d=\"M310,-1679.4551C310,-1671.3828 310,-1661.6764 310,-1652.6817\" fill=\"none\" stroke=\"#000000\"/>\n<polygon fill=\"#000000\" points=\"313.5001,-1652.5903 310,-1642.5904 306.5001,-1652.5904 313.5001,-1652.5903\" stroke=\"#000000\"/>\n</g>\n<!-- 140196867721144 -->\n<g class=\"node\" id=\"node24\">\n<title>140196867721144</title>\n<polygon fill=\"none\" points=\"191,-1533.5 191,-1569.5 331,-1569.5 331,-1533.5 191,-1533.5\" stroke=\"#000000\"/>\n<text fill=\"#000000\" font-family=\"Times,serif\" font-size=\"14.00\" text-anchor=\"middle\" x=\"261\" y=\"-1547.8\">conv2d_33: Conv2D</text>\n</g>\n<!-- 140196867600112&#45;&gt;140196867721144 -->\n<g class=\"edge\" id=\"edge25\">\n<title>140196867600112-&gt;140196867721144</title>\n<path d=\"M297.8876,-1606.4551C292.1159,-1597.8564 285.0995,-1587.4034 278.7418,-1577.9316\" fill=\"none\" stroke=\"#000000\"/>\n<polygon fill=\"#000000\" points=\"281.6222,-1575.9427 273.1428,-1569.5904 275.8101,-1579.844 281.6222,-1575.9427\" stroke=\"#000000\"/>\n</g>\n<!-- 140196863554672 -->\n<g class=\"node\" id=\"node32\">\n<title>140196863554672</title>\n<polygon fill=\"none\" points=\"354,-1460.5 354,-1496.5 494,-1496.5 494,-1460.5 354,-1460.5\" stroke=\"#000000\"/>\n<text fill=\"#000000\" font-family=\"Times,serif\" font-size=\"14.00\" text-anchor=\"middle\" x=\"424\" y=\"-1474.8\">conv2d_36: Conv2D</text>\n</g>\n<!-- 140196867600112&#45;&gt;140196863554672 -->\n<g class=\"edge\" id=\"edge33\">\n<title>140196867600112-&gt;140196863554672</title>\n<path d=\"M324.2077,-1606.3042C344.0904,-1580.8403 380.3436,-1534.4108 403.2489,-1505.0759\" fill=\"none\" stroke=\"#000000\"/>\n<polygon fill=\"#000000\" points=\"406.2176,-1506.961 409.6133,-1496.9251 400.7002,-1502.653 406.2176,-1506.961\" stroke=\"#000000\"/>\n</g>\n<!-- 140196865134720 -->\n<g class=\"node\" id=\"node25\">\n<title>140196865134720</title>\n<polygon fill=\"none\" points=\"58,-1460.5 58,-1496.5 336,-1496.5 336,-1460.5 58,-1460.5\" stroke=\"#000000\"/>\n<text fill=\"#000000\" font-family=\"Times,serif\" font-size=\"14.00\" text-anchor=\"middle\" x=\"197\" y=\"-1474.8\">batch_normalization_25: BatchNormalization</text>\n</g>\n<!-- 140196867721144&#45;&gt;140196865134720 -->\n<g class=\"edge\" id=\"edge26\">\n<title>140196867721144-&gt;140196865134720</title>\n<path d=\"M245.1798,-1533.4551C237.4874,-1524.6809 228.1022,-1513.9759 219.6656,-1504.353\" fill=\"none\" stroke=\"#000000\"/>\n<polygon fill=\"#000000\" points=\"222.0842,-1501.8024 212.86,-1496.5904 216.8206,-1506.4171 222.0842,-1501.8024\" stroke=\"#000000\"/>\n</g>\n<!-- 140196865026088 -->\n<g class=\"node\" id=\"node26\">\n<title>140196865026088</title>\n<polygon fill=\"none\" points=\"146.5,-1387.5 146.5,-1423.5 307.5,-1423.5 307.5,-1387.5 146.5,-1387.5\" stroke=\"#000000\"/>\n<text fill=\"#000000\" font-family=\"Times,serif\" font-size=\"14.00\" text-anchor=\"middle\" x=\"227\" y=\"-1401.8\">activation_25: Activation</text>\n</g>\n<!-- 140196865134720&#45;&gt;140196865026088 -->\n<g class=\"edge\" id=\"edge27\">\n<title>140196865134720-&gt;140196865026088</title>\n<path d=\"M204.4157,-1460.4551C207.8052,-1452.2074 211.8958,-1442.2536 215.6591,-1433.0962\" fill=\"none\" stroke=\"#000000\"/>\n<polygon fill=\"#000000\" points=\"219.0017,-1434.1702 219.5656,-1423.5904 212.5271,-1431.5094 219.0017,-1434.1702\" stroke=\"#000000\"/>\n</g>\n<!-- 140196865233920 -->\n<g class=\"node\" id=\"node27\">\n<title>140196865233920</title>\n<polygon fill=\"none\" points=\"172,-1314.5 172,-1350.5 312,-1350.5 312,-1314.5 172,-1314.5\" stroke=\"#000000\"/>\n<text fill=\"#000000\" font-family=\"Times,serif\" font-size=\"14.00\" text-anchor=\"middle\" x=\"242\" y=\"-1328.8\">conv2d_34: Conv2D</text>\n</g>\n<!-- 140196865026088&#45;&gt;140196865233920 -->\n<g class=\"edge\" id=\"edge28\">\n<title>140196865026088-&gt;140196865233920</title>\n<path d=\"M230.7079,-1387.4551C232.3846,-1379.2951 234.4044,-1369.4652 236.2694,-1360.3887\" fill=\"none\" stroke=\"#000000\"/>\n<polygon fill=\"#000000\" points=\"239.6984,-1361.0902 238.2828,-1350.5904 232.8416,-1359.6812 239.6984,-1361.0902\" stroke=\"#000000\"/>\n</g>\n<!-- 140196864500624 -->\n<g class=\"node\" id=\"node28\">\n<title>140196864500624</title>\n<polygon fill=\"none\" points=\"110,-1241.5 110,-1277.5 388,-1277.5 388,-1241.5 110,-1241.5\" stroke=\"#000000\"/>\n<text fill=\"#000000\" font-family=\"Times,serif\" font-size=\"14.00\" text-anchor=\"middle\" x=\"249\" y=\"-1255.8\">batch_normalization_26: BatchNormalization</text>\n</g>\n<!-- 140196865233920&#45;&gt;140196864500624 -->\n<g class=\"edge\" id=\"edge29\">\n<title>140196865233920-&gt;140196864500624</title>\n<path d=\"M243.7303,-1314.4551C244.5044,-1306.3828 245.4351,-1296.6764 246.2976,-1287.6817\" fill=\"none\" stroke=\"#000000\"/>\n<polygon fill=\"#000000\" points=\"249.7947,-1287.8788 247.2653,-1277.5904 242.8267,-1287.2106 249.7947,-1287.8788\" stroke=\"#000000\"/>\n</g>\n<!-- 140196864639328 -->\n<g class=\"node\" id=\"node29\">\n<title>140196864639328</title>\n<polygon fill=\"none\" points=\"172.5,-1168.5 172.5,-1204.5 333.5,-1204.5 333.5,-1168.5 172.5,-1168.5\" stroke=\"#000000\"/>\n<text fill=\"#000000\" font-family=\"Times,serif\" font-size=\"14.00\" text-anchor=\"middle\" x=\"253\" y=\"-1182.8\">activation_26: Activation</text>\n</g>\n<!-- 140196864500624&#45;&gt;140196864639328 -->\n<g class=\"edge\" id=\"edge30\">\n<title>140196864500624-&gt;140196864639328</title>\n<path d=\"M249.9888,-1241.4551C250.4311,-1233.3828 250.9629,-1223.6764 251.4558,-1214.6817\" fill=\"none\" stroke=\"#000000\"/>\n<polygon fill=\"#000000\" points=\"254.9563,-1214.7669 252.0087,-1204.5904 247.9668,-1214.3839 254.9563,-1214.7669\" stroke=\"#000000\"/>\n</g>\n<!-- 140196864179784 -->\n<g class=\"node\" id=\"node30\">\n<title>140196864179784</title>\n<polygon fill=\"none\" points=\"185,-1095.5 185,-1131.5 325,-1131.5 325,-1095.5 185,-1095.5\" stroke=\"#000000\"/>\n<text fill=\"#000000\" font-family=\"Times,serif\" font-size=\"14.00\" text-anchor=\"middle\" x=\"255\" y=\"-1109.8\">conv2d_35: Conv2D</text>\n</g>\n<!-- 140196864639328&#45;&gt;140196864179784 -->\n<g class=\"edge\" id=\"edge31\">\n<title>140196864639328-&gt;140196864179784</title>\n<path d=\"M253.4944,-1168.4551C253.7155,-1160.3828 253.9815,-1150.6764 254.2279,-1141.6817\" fill=\"none\" stroke=\"#000000\"/>\n<polygon fill=\"#000000\" points=\"257.7291,-1141.6825 254.5044,-1131.5904 250.7317,-1141.4907 257.7291,-1141.6825\" stroke=\"#000000\"/>\n</g>\n<!-- 140196863432520 -->\n<g class=\"node\" id=\"node31\">\n<title>140196863432520</title>\n<polygon fill=\"none\" points=\"117,-1022.5 117,-1058.5 395,-1058.5 395,-1022.5 117,-1022.5\" stroke=\"#000000\"/>\n<text fill=\"#000000\" font-family=\"Times,serif\" font-size=\"14.00\" text-anchor=\"middle\" x=\"256\" y=\"-1036.8\">batch_normalization_27: BatchNormalization</text>\n</g>\n<!-- 140196864179784&#45;&gt;140196863432520 -->\n<g class=\"edge\" id=\"edge32\">\n<title>140196864179784-&gt;140196863432520</title>\n<path d=\"M255.2472,-1095.4551C255.3578,-1087.3828 255.4907,-1077.6764 255.6139,-1068.6817\" fill=\"none\" stroke=\"#000000\"/>\n<polygon fill=\"#000000\" points=\"259.1148,-1068.6374 255.7522,-1058.5904 252.1154,-1068.5414 259.1148,-1068.6374\" stroke=\"#000000\"/>\n</g>\n<!-- 140196862507216 -->\n<g class=\"node\" id=\"node33\">\n<title>140196862507216</title>\n<polygon fill=\"none\" points=\"296.5,-949.5 296.5,-985.5 381.5,-985.5 381.5,-949.5 296.5,-949.5\" stroke=\"#000000\"/>\n<text fill=\"#000000\" font-family=\"Times,serif\" font-size=\"14.00\" text-anchor=\"middle\" x=\"339\" y=\"-963.8\">add_9: Add</text>\n</g>\n<!-- 140196863432520&#45;&gt;140196862507216 -->\n<g class=\"edge\" id=\"edge34\">\n<title>140196863432520-&gt;140196862507216</title>\n<path d=\"M276.5169,-1022.4551C286.892,-1013.3299 299.6416,-1002.1165 310.9123,-992.2036\" fill=\"none\" stroke=\"#000000\"/>\n<polygon fill=\"#000000\" points=\"313.2341,-994.8228 318.4315,-985.5904 308.6111,-989.5665 313.2341,-994.8228\" stroke=\"#000000\"/>\n</g>\n<!-- 140196863554672&#45;&gt;140196862507216 -->\n<g class=\"edge\" id=\"edge35\">\n<title>140196863554672-&gt;140196862507216</title>\n<path d=\"M423.7928,-1460.0623C423.4999,-1432.367 423,-1378.3795 423,-1332.5 423,-1332.5 423,-1332.5 423,-1113.5 423,-1071.9658 425.3146,-1057.6479 404,-1022 397.1422,-1010.5307 386.9793,-1000.3447 376.7159,-991.9733\" fill=\"none\" stroke=\"#000000\"/>\n<polygon fill=\"#000000\" points=\"378.5814,-988.9921 368.5246,-985.6587 374.3077,-994.5361 378.5814,-988.9921\" stroke=\"#000000\"/>\n</g>\n<!-- 140196862785688 -->\n<g class=\"node\" id=\"node34\">\n<title>140196862785688</title>\n<polygon fill=\"none\" points=\"258.5,-876.5 258.5,-912.5 419.5,-912.5 419.5,-876.5 258.5,-876.5\" stroke=\"#000000\"/>\n<text fill=\"#000000\" font-family=\"Times,serif\" font-size=\"14.00\" text-anchor=\"middle\" x=\"339\" y=\"-890.8\">activation_27: Activation</text>\n</g>\n<!-- 140196862507216&#45;&gt;140196862785688 -->\n<g class=\"edge\" id=\"edge36\">\n<title>140196862507216-&gt;140196862785688</title>\n<path d=\"M339,-949.4551C339,-941.3828 339,-931.6764 339,-922.6817\" fill=\"none\" stroke=\"#000000\"/>\n<polygon fill=\"#000000\" points=\"342.5001,-922.5903 339,-912.5904 335.5001,-922.5904 342.5001,-922.5903\" stroke=\"#000000\"/>\n</g>\n<!-- 140196862388992 -->\n<g class=\"node\" id=\"node35\">\n<title>140196862388992</title>\n<polygon fill=\"none\" points=\"220,-803.5 220,-839.5 360,-839.5 360,-803.5 220,-803.5\" stroke=\"#000000\"/>\n<text fill=\"#000000\" font-family=\"Times,serif\" font-size=\"14.00\" text-anchor=\"middle\" x=\"290\" y=\"-817.8\">conv2d_37: Conv2D</text>\n</g>\n<!-- 140196862785688&#45;&gt;140196862388992 -->\n<g class=\"edge\" id=\"edge37\">\n<title>140196862785688-&gt;140196862388992</title>\n<path d=\"M326.8876,-876.4551C321.1159,-867.8564 314.0995,-857.4034 307.7418,-847.9316\" fill=\"none\" stroke=\"#000000\"/>\n<polygon fill=\"#000000\" points=\"310.6222,-845.9427 302.1428,-839.5904 304.8101,-849.844 310.6222,-845.9427\" stroke=\"#000000\"/>\n</g>\n<!-- 140196860045744 -->\n<g class=\"node\" id=\"node43\">\n<title>140196860045744</title>\n<polygon fill=\"none\" points=\"383,-730.5 383,-766.5 523,-766.5 523,-730.5 383,-730.5\" stroke=\"#000000\"/>\n<text fill=\"#000000\" font-family=\"Times,serif\" font-size=\"14.00\" text-anchor=\"middle\" x=\"453\" y=\"-744.8\">conv2d_40: Conv2D</text>\n</g>\n<!-- 140196862785688&#45;&gt;140196860045744 -->\n<g class=\"edge\" id=\"edge45\">\n<title>140196862785688-&gt;140196860045744</title>\n<path d=\"M353.2077,-876.3042C373.0904,-850.8403 409.3436,-804.4108 432.2489,-775.0759\" fill=\"none\" stroke=\"#000000\"/>\n<polygon fill=\"#000000\" points=\"435.2176,-776.961 438.6133,-766.9251 429.7002,-772.653 435.2176,-776.961\" stroke=\"#000000\"/>\n</g>\n<!-- 140196861625960 -->\n<g class=\"node\" id=\"node36\">\n<title>140196861625960</title>\n<polygon fill=\"none\" points=\"87,-730.5 87,-766.5 365,-766.5 365,-730.5 87,-730.5\" stroke=\"#000000\"/>\n<text fill=\"#000000\" font-family=\"Times,serif\" font-size=\"14.00\" text-anchor=\"middle\" x=\"226\" y=\"-744.8\">batch_normalization_28: BatchNormalization</text>\n</g>\n<!-- 140196862388992&#45;&gt;140196861625960 -->\n<g class=\"edge\" id=\"edge38\">\n<title>140196862388992-&gt;140196861625960</title>\n<path d=\"M274.1798,-803.4551C266.4874,-794.6809 257.1022,-783.9759 248.6656,-774.353\" fill=\"none\" stroke=\"#000000\"/>\n<polygon fill=\"#000000\" points=\"251.0842,-771.8024 241.86,-766.5904 245.8206,-776.4171 251.0842,-771.8024\" stroke=\"#000000\"/>\n</g>\n<!-- 140196861625064 -->\n<g class=\"node\" id=\"node37\">\n<title>140196861625064</title>\n<polygon fill=\"none\" points=\"175.5,-657.5 175.5,-693.5 336.5,-693.5 336.5,-657.5 175.5,-657.5\" stroke=\"#000000\"/>\n<text fill=\"#000000\" font-family=\"Times,serif\" font-size=\"14.00\" text-anchor=\"middle\" x=\"256\" y=\"-671.8\">activation_28: Activation</text>\n</g>\n<!-- 140196861625960&#45;&gt;140196861625064 -->\n<g class=\"edge\" id=\"edge39\">\n<title>140196861625960-&gt;140196861625064</title>\n<path d=\"M233.4157,-730.4551C236.8052,-722.2074 240.8958,-712.2536 244.6591,-703.0962\" fill=\"none\" stroke=\"#000000\"/>\n<polygon fill=\"#000000\" points=\"248.0017,-704.1702 248.5656,-693.5904 241.5271,-701.5094 248.0017,-704.1702\" stroke=\"#000000\"/>\n</g>\n<!-- 140196861734304 -->\n<g class=\"node\" id=\"node38\">\n<title>140196861734304</title>\n<polygon fill=\"none\" points=\"201,-584.5 201,-620.5 341,-620.5 341,-584.5 201,-584.5\" stroke=\"#000000\"/>\n<text fill=\"#000000\" font-family=\"Times,serif\" font-size=\"14.00\" text-anchor=\"middle\" x=\"271\" y=\"-598.8\">conv2d_38: Conv2D</text>\n</g>\n<!-- 140196861625064&#45;&gt;140196861734304 -->\n<g class=\"edge\" id=\"edge40\">\n<title>140196861625064-&gt;140196861734304</title>\n<path d=\"M259.7079,-657.4551C261.3846,-649.2951 263.4044,-639.4652 265.2694,-630.3887\" fill=\"none\" stroke=\"#000000\"/>\n<polygon fill=\"#000000\" points=\"268.6984,-631.0902 267.2828,-620.5904 261.8416,-629.6812 268.6984,-631.0902\" stroke=\"#000000\"/>\n</g>\n<!-- 140196861499096 -->\n<g class=\"node\" id=\"node39\">\n<title>140196861499096</title>\n<polygon fill=\"none\" points=\"139,-511.5 139,-547.5 417,-547.5 417,-511.5 139,-511.5\" stroke=\"#000000\"/>\n<text fill=\"#000000\" font-family=\"Times,serif\" font-size=\"14.00\" text-anchor=\"middle\" x=\"278\" y=\"-525.8\">batch_normalization_29: BatchNormalization</text>\n</g>\n<!-- 140196861734304&#45;&gt;140196861499096 -->\n<g class=\"edge\" id=\"edge41\">\n<title>140196861734304-&gt;140196861499096</title>\n<path d=\"M272.7303,-584.4551C273.5044,-576.3828 274.4351,-566.6764 275.2976,-557.6817\" fill=\"none\" stroke=\"#000000\"/>\n<polygon fill=\"#000000\" points=\"278.7947,-557.8788 276.2653,-547.5904 271.8267,-557.2106 278.7947,-557.8788\" stroke=\"#000000\"/>\n</g>\n<!-- 140196861092864 -->\n<g class=\"node\" id=\"node40\">\n<title>140196861092864</title>\n<polygon fill=\"none\" points=\"201.5,-438.5 201.5,-474.5 362.5,-474.5 362.5,-438.5 201.5,-438.5\" stroke=\"#000000\"/>\n<text fill=\"#000000\" font-family=\"Times,serif\" font-size=\"14.00\" text-anchor=\"middle\" x=\"282\" y=\"-452.8\">activation_29: Activation</text>\n</g>\n<!-- 140196861499096&#45;&gt;140196861092864 -->\n<g class=\"edge\" id=\"edge42\">\n<title>140196861499096-&gt;140196861092864</title>\n<path d=\"M278.9888,-511.4551C279.4311,-503.3828 279.9629,-493.6764 280.4558,-484.6817\" fill=\"none\" stroke=\"#000000\"/>\n<polygon fill=\"#000000\" points=\"283.9563,-484.7669 281.0087,-474.5904 276.9668,-484.3839 283.9563,-484.7669\" stroke=\"#000000\"/>\n</g>\n<!-- 140196860759176 -->\n<g class=\"node\" id=\"node41\">\n<title>140196860759176</title>\n<polygon fill=\"none\" points=\"214,-365.5 214,-401.5 354,-401.5 354,-365.5 214,-365.5\" stroke=\"#000000\"/>\n<text fill=\"#000000\" font-family=\"Times,serif\" font-size=\"14.00\" text-anchor=\"middle\" x=\"284\" y=\"-379.8\">conv2d_39: Conv2D</text>\n</g>\n<!-- 140196861092864&#45;&gt;140196860759176 -->\n<g class=\"edge\" id=\"edge43\">\n<title>140196861092864-&gt;140196860759176</title>\n<path d=\"M282.4944,-438.4551C282.7155,-430.3828 282.9815,-420.6764 283.2279,-411.6817\" fill=\"none\" stroke=\"#000000\"/>\n<polygon fill=\"#000000\" points=\"286.7291,-411.6825 283.5044,-401.5904 279.7317,-411.4907 286.7291,-411.6825\" stroke=\"#000000\"/>\n</g>\n<!-- 140196860323880 -->\n<g class=\"node\" id=\"node42\">\n<title>140196860323880</title>\n<polygon fill=\"none\" points=\"146,-292.5 146,-328.5 424,-328.5 424,-292.5 146,-292.5\" stroke=\"#000000\"/>\n<text fill=\"#000000\" font-family=\"Times,serif\" font-size=\"14.00\" text-anchor=\"middle\" x=\"285\" y=\"-306.8\">batch_normalization_30: BatchNormalization</text>\n</g>\n<!-- 140196860759176&#45;&gt;140196860323880 -->\n<g class=\"edge\" id=\"edge44\">\n<title>140196860759176-&gt;140196860323880</title>\n<path d=\"M284.2472,-365.4551C284.3578,-357.3828 284.4907,-347.6764 284.6139,-338.6817\" fill=\"none\" stroke=\"#000000\"/>\n<polygon fill=\"#000000\" points=\"288.1148,-338.6374 284.7522,-328.5904 281.1154,-338.5414 288.1148,-338.6374\" stroke=\"#000000\"/>\n</g>\n<!-- 140196355810696 -->\n<g class=\"node\" id=\"node44\">\n<title>140196355810696</title>\n<polygon fill=\"none\" points=\"322,-219.5 322,-255.5 414,-255.5 414,-219.5 322,-219.5\" stroke=\"#000000\"/>\n<text fill=\"#000000\" font-family=\"Times,serif\" font-size=\"14.00\" text-anchor=\"middle\" x=\"368\" y=\"-233.8\">add_10: Add</text>\n</g>\n<!-- 140196860323880&#45;&gt;140196355810696 -->\n<g class=\"edge\" id=\"edge46\">\n<title>140196860323880-&gt;140196355810696</title>\n<path d=\"M305.5169,-292.4551C315.892,-283.3299 328.6416,-272.1165 339.9123,-262.2036\" fill=\"none\" stroke=\"#000000\"/>\n<polygon fill=\"#000000\" points=\"342.2341,-264.8228 347.4315,-255.5904 337.6111,-259.5665 342.2341,-264.8228\" stroke=\"#000000\"/>\n</g>\n<!-- 140196860045744&#45;&gt;140196355810696 -->\n<g class=\"edge\" id=\"edge47\">\n<title>140196860045744-&gt;140196355810696</title>\n<path d=\"M452.7928,-730.0623C452.4999,-702.367 452,-648.3795 452,-602.5 452,-602.5 452,-602.5 452,-383.5 452,-341.9658 454.3146,-327.6479 433,-292 426.1422,-280.5307 415.9793,-270.3447 405.7159,-261.9733\" fill=\"none\" stroke=\"#000000\"/>\n<polygon fill=\"#000000\" points=\"407.5814,-258.9921 397.5246,-255.6587 403.3077,-264.5361 407.5814,-258.9921\" stroke=\"#000000\"/>\n</g>\n<!-- 140196355812432 -->\n<g class=\"node\" id=\"node45\">\n<title>140196355812432</title>\n<polygon fill=\"none\" points=\"287.5,-146.5 287.5,-182.5 448.5,-182.5 448.5,-146.5 287.5,-146.5\" stroke=\"#000000\"/>\n<text fill=\"#000000\" font-family=\"Times,serif\" font-size=\"14.00\" text-anchor=\"middle\" x=\"368\" y=\"-160.8\">activation_30: Activation</text>\n</g>\n<!-- 140196355810696&#45;&gt;140196355812432 -->\n<g class=\"edge\" id=\"edge48\">\n<title>140196355810696-&gt;140196355812432</title>\n<path d=\"M368,-219.4551C368,-211.3828 368,-201.6764 368,-192.6817\" fill=\"none\" stroke=\"#000000\"/>\n<polygon fill=\"#000000\" points=\"371.5001,-192.5903 368,-182.5904 364.5001,-192.5904 371.5001,-192.5903\" stroke=\"#000000\"/>\n</g>\n<!-- 140196355538224 -->\n<g class=\"node\" id=\"node46\">\n<title>140196355538224</title>\n<polygon fill=\"none\" points=\"311.5,-73.5 311.5,-109.5 424.5,-109.5 424.5,-73.5 311.5,-73.5\" stroke=\"#000000\"/>\n<text fill=\"#000000\" font-family=\"Times,serif\" font-size=\"14.00\" text-anchor=\"middle\" x=\"368\" y=\"-87.8\">flatten_2: Flatten</text>\n</g>\n<!-- 140196355812432&#45;&gt;140196355538224 -->\n<g class=\"edge\" id=\"edge49\">\n<title>140196355812432-&gt;140196355538224</title>\n<path d=\"M368,-146.4551C368,-138.3828 368,-128.6764 368,-119.6817\" fill=\"none\" stroke=\"#000000\"/>\n<polygon fill=\"#000000\" points=\"371.5001,-119.5903 368,-109.5904 364.5001,-119.5904 371.5001,-119.5903\" stroke=\"#000000\"/>\n</g>\n<!-- 140196355197248 -->\n<g class=\"node\" id=\"node47\">\n<title>140196355197248</title>\n<polygon fill=\"none\" points=\"314.5,-.5 314.5,-36.5 421.5,-36.5 421.5,-.5 314.5,-.5\" stroke=\"#000000\"/>\n<text fill=\"#000000\" font-family=\"Times,serif\" font-size=\"14.00\" text-anchor=\"middle\" x=\"368\" y=\"-14.8\">dense_2: Dense</text>\n</g>\n<!-- 140196355538224&#45;&gt;140196355197248 -->\n<g class=\"edge\" id=\"edge50\">\n<title>140196355538224-&gt;140196355197248</title>\n<path d=\"M368,-73.4551C368,-65.3828 368,-55.6764 368,-46.6817\" fill=\"none\" stroke=\"#000000\"/>\n<polygon fill=\"#000000\" points=\"371.5001,-46.5903 368,-36.5904 364.5001,-46.5904 371.5001,-46.5903\" stroke=\"#000000\"/>\n</g>\n</g>\n</svg>"
          },
          "metadata": {
            "tags": []
          },
          "execution_count": 12
        }
      ]
    },
    {
      "cell_type": "code",
      "metadata": {
        "id": "HJIMU6WiwWXW",
        "colab_type": "code",
        "colab": {}
      },
      "source": [
        "model.compile(optimizer = \"adam\", loss = \"categorical_crossentropy\", metrics = [\"accuracy\"])"
      ],
      "execution_count": 0,
      "outputs": []
    },
    {
      "cell_type": "code",
      "metadata": {
        "id": "3dWlrwdY4Zgu",
        "colab_type": "code",
        "outputId": "bd9b9c1b-034d-4572-e38c-216a799426b0",
        "colab": {
          "base_uri": "https://localhost:8080/",
          "height": 445
        }
      },
      "source": [
        "#tbc = TensorBoardColab()\n",
        "history = model.fit(X_train, y_train, epochs = 10, batch_size = 50,validation_data = (X_test, y_test))"
      ],
      "execution_count": 14,
      "outputs": [
        {
          "output_type": "stream",
          "text": [
            "WARNING:tensorflow:From /usr/local/lib/python3.6/dist-packages/tensorflow/python/ops/math_ops.py:3066: to_int32 (from tensorflow.python.ops.math_ops) is deprecated and will be removed in a future version.\n",
            "Instructions for updating:\n",
            "Use tf.cast instead.\n",
            "Train on 50000 samples, validate on 10000 samples\n",
            "Epoch 1/10\n",
            "50000/50000 [==============================] - 124s 2ms/step - loss: 2.3280 - acc: 0.2325 - val_loss: 1.6096 - val_acc: 0.4302\n",
            "Epoch 2/10\n",
            "50000/50000 [==============================] - 117s 2ms/step - loss: 1.3946 - acc: 0.5039 - val_loss: 1.3021 - val_acc: 0.5328\n",
            "Epoch 3/10\n",
            "50000/50000 [==============================] - 117s 2ms/step - loss: 1.1608 - acc: 0.5883 - val_loss: 1.1288 - val_acc: 0.5988\n",
            "Epoch 4/10\n",
            "50000/50000 [==============================] - 117s 2ms/step - loss: 0.9713 - acc: 0.6598 - val_loss: 1.1167 - val_acc: 0.6079\n",
            "Epoch 5/10\n",
            "50000/50000 [==============================] - 117s 2ms/step - loss: 0.7698 - acc: 0.7323 - val_loss: 1.1334 - val_acc: 0.6175\n",
            "Epoch 6/10\n",
            "50000/50000 [==============================] - 117s 2ms/step - loss: 0.5541 - acc: 0.8079 - val_loss: 1.2746 - val_acc: 0.6055\n",
            "Epoch 7/10\n",
            "50000/50000 [==============================] - 118s 2ms/step - loss: 0.3518 - acc: 0.8768 - val_loss: 1.6217 - val_acc: 0.5940\n",
            "Epoch 8/10\n",
            "50000/50000 [==============================] - 117s 2ms/step - loss: 0.2213 - acc: 0.9226 - val_loss: 1.9635 - val_acc: 0.5983\n",
            "Epoch 9/10\n",
            "50000/50000 [==============================] - 118s 2ms/step - loss: 0.1558 - acc: 0.9447 - val_loss: 2.2245 - val_acc: 0.5859\n",
            "Epoch 10/10\n",
            "50000/50000 [==============================] - 117s 2ms/step - loss: 0.1194 - acc: 0.9588 - val_loss: 2.6026 - val_acc: 0.5841\n"
          ],
          "name": "stdout"
        }
      ]
    },
    {
      "cell_type": "code",
      "metadata": {
        "id": "yX-YvRj24wDz",
        "colab_type": "code",
        "colab": {}
      },
      "source": [
        "  "
      ],
      "execution_count": 0,
      "outputs": []
    }
  ]
}